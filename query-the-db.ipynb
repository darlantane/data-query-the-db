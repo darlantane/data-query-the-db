{
 "cells": [
  {
   "cell_type": "markdown",
   "metadata": {},
   "source": [
    "# Query the Database\n",
    "\n",
    "Now it is time to make advanced SQL requests to an `ecommerce` database!\n",
    "\n",
    "## Data\n",
    "We will work with the `ecommerce.sqlite` database available at this URL:  \n",
    "`https://wagon-public-datasets.s3.amazonaws.com/sql_databases/ecommerce.sqlite`\n",
    "\n",
    "Run the cell below to download the file."
   ]
  },
  {
   "cell_type": "code",
   "execution_count": null,
   "metadata": {},
   "outputs": [],
   "source": [
    "!curl https://wagon-public-datasets.s3.amazonaws.com/sql_databases/ecommerce.sqlite > data/ecommerce.sqlite"
   ]
  },
  {
   "cell_type": "markdown",
   "metadata": {},
   "source": [
    "## Setup\n",
    "\n",
    "Pandas and sqlite3 is all we need :-)"
   ]
  },
  {
   "cell_type": "code",
   "execution_count": null,
   "metadata": {},
   "outputs": [],
   "source": [
    "import pandas as pd\n",
    "from sqlite3 import connect"
   ]
  },
  {
   "cell_type": "markdown",
   "metadata": {},
   "source": [
    "## Orders\n",
    "\n",
    "👉 Get all the orders, displaying all the columns"
   ]
  },
  {
   "cell_type": "code",
   "execution_count": null,
   "metadata": {},
   "outputs": [],
   "source": [
    "# Return a list of orders displaying each column\n",
    "query_orders = \"\"\"\n",
    "    SELECT \"You have to write your query here\" AS TODO -- Replace this line by your SQL query\n",
    "\"\"\""
   ]
  },
  {
   "cell_type": "code",
   "execution_count": null,
   "metadata": {},
   "outputs": [],
   "source": [
    "with connect('data/ecommerce.sqlite') as conn:\n",
    "    df = pd.read_sql(\n",
    "        query_orders,\n",
    "        con=conn\n",
    "    )\n",
    "df.head()"
   ]
  },
  {
   "cell_type": "markdown",
   "metadata": {},
   "source": [
    "When the result looks like expected, run the following cell to test your query."
   ]
  },
  {
   "cell_type": "code",
   "execution_count": null,
   "metadata": {},
   "outputs": [],
   "source": [
    "from nbresult import ChallengeResult\n",
    "result = ChallengeResult(\n",
    "    'query_orders',\n",
    "    query=query_orders\n",
    ")\n",
    "result.write(); print(result.check())"
   ]
  },
  {
   "cell_type": "markdown",
   "metadata": {},
   "source": [
    "## Orders range\n",
    "\n",
    "👉 Get all the orders made between two given dates by ascending OrderDate (excluding date_from and including date_to)"
   ]
  },
  {
   "cell_type": "code",
   "execution_count": null,
   "metadata": {},
   "outputs": [],
   "source": [
    "# return a list of orders displaying all columns with OrderDate between\n",
    "# date_from and date_to (excluding date_from and including date_to)\n",
    "query_orders_range = \"\"\"\n",
    "    SELECT \"You have to write your query here\" AS TODO -- Replace this line by your SQL query\n",
    "\"\"\""
   ]
  },
  {
   "cell_type": "markdown",
   "metadata": {},
   "source": [
    "👉 This time, to try out the query, write the code yourself to load the data into a dataframe. Make sure it's dynamic: we want to be able to easily change the start and end date!\n",
    "\n",
    "Not sure how to do that? Get inspired by the previous challenge!"
   ]
  },
  {
   "cell_type": "code",
   "execution_count": null,
   "metadata": {},
   "outputs": [],
   "source": [
    "start_date = '2013-01-01'\n",
    "end_date = '2013-01-31'\n",
    "\n",
    "pass  # YOUR CODE HERE"
   ]
  },
  {
   "cell_type": "markdown",
   "metadata": {},
   "source": [
    "When the result looks like expected, run the following cell to test your query."
   ]
  },
  {
   "cell_type": "code",
   "execution_count": null,
   "metadata": {},
   "outputs": [],
   "source": [
    "from nbresult import ChallengeResult\n",
    "result = ChallengeResult(\n",
    "    'get_orders_range',\n",
    "    query=query_orders_range\n",
    ")\n",
    "result.write(); print(result.check())"
   ]
  },
  {
   "cell_type": "markdown",
   "metadata": {},
   "source": [
    "## Waiting time\n",
    "\n",
    "👉 Get all the orders with the delivery time in ascending order (from the smallest timedelta to the largest).\n",
    "\n",
    "Hint: search for \"sqlite julianday\""
   ]
  },
  {
   "cell_type": "code",
   "execution_count": null,
   "metadata": {},
   "outputs": [],
   "source": [
    "# Get a list with all the orders displaying each column\n",
    "# and calculate an extra TimeDelta column displaying the number of days\n",
    "# between OrderDate and ShippedDate, ordered by ascending TimeDelta\n",
    "query_waiting_time = \"\"\"\n",
    "    SELECT \"You have to write your query here\" AS TODO -- Replace this line by your SQL query\n",
    "\"\"\""
   ]
  },
  {
   "cell_type": "markdown",
   "metadata": {},
   "source": [
    "When the result looks like expected, run the following cells to try and test your query."
   ]
  },
  {
   "cell_type": "code",
   "execution_count": null,
   "metadata": {},
   "outputs": [],
   "source": [
    "with connect('data/ecommerce.sqlite') as conn:\n",
    "    df = pd.read_sql(\n",
    "        query_waiting_time,\n",
    "        con=conn\n",
    "    )\n",
    "df.head()"
   ]
  },
  {
   "cell_type": "code",
   "execution_count": null,
   "metadata": {},
   "outputs": [],
   "source": [
    "from nbresult import ChallengeResult\n",
    "result = ChallengeResult(\n",
    "    'get_waiting_time',\n",
    "    query=query_waiting_time\n",
    ")\n",
    "result.write(); print(result.check())"
   ]
  },
  {
   "cell_type": "markdown",
   "metadata": {},
   "source": [
    "## Key learning points\n",
    "\n",
    "- Use Pandas to query a database\n",
    "- Use parameter substitution to write dynamic queries\n",
    "- Work with dates, and make calculations with them"
   ]
  }
 ],
 "metadata": {
  "kernelspec": {
   "display_name": "Python 3",
   "language": "python",
   "name": "python3"
  }
 },
 "nbformat": 4,
 "nbformat_minor": 4
}
